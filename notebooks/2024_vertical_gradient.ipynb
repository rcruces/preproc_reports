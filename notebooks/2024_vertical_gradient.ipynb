{
 "cells": [
  {
   "cell_type": "markdown",
   "id": "c145eef5",
   "metadata": {},
   "source": [
    "# Gradient\n",
    "\n",
    "At a vertex v, vertical gradient was computed as the difference in normalized intensity between corresponding vertices above and below v on neighboring surfaces, divided by their distance. Horizontal gradient was computed as mean intensity difference between v and its immediate surface neighbors, divided by the mean distance between v and its neighbors. Values at the GM–CSF surface were not considered. Decreased vertical/horizontal gradients within cortical surfaces were interpreted as proxies for radial/tangential dyslamination. Decreased vertical gradient at the GM–WM interface modeled blurring.\n",
    "\n",
    "> Hong, Seok-Jun, et al. \"Multimodal MRI profiling of focal cortical dysplasia type II.\" Neurology 88.8 (2017): 734-742.\n",
    "\n",
    "> Hong, Seok-Jun, et al. \"Automated detection of cortical dysplasia type II in MRI-negative epilepsy.\" Neurology 83.1 (2014): 48-55. https://doi.org/10.1212/WNL.0000000000000543 \n",
    "\n"
   ]
  },
  {
   "cell_type": "code",
   "execution_count": 1,
   "id": "e66f7b22",
   "metadata": {},
   "outputs": [
    {
     "name": "stdout",
     "output_type": "stream",
     "text": [
      "Vertical Gradient: 0.20000000000000007\n",
      "Horizontal Gradient: 0.07500000000000007\n"
     ]
    }
   ],
   "source": [
    "def compute_vertical_gradient(I_above, I_below, d_vertical):\n",
    "    \"\"\"\n",
    "    Computes the vertical gradient at a vertex.\n",
    "\n",
    "    Parameters:\n",
    "    I_above (float): Intensity of the vertex above.\n",
    "    I_below (float): Intensity of the vertex below.\n",
    "    d_vertical (float): Distance between the above and below vertices.\n",
    "\n",
    "    Returns:\n",
    "    float: Vertical gradient.\n",
    "    \"\"\"\n",
    "    return (I_above - I_below) / d_vertical\n",
    "\n",
    "def compute_horizontal_gradient(I_v, I_neighbors, d_horizontal):\n",
    "    \"\"\"\n",
    "    Computes the horizontal gradient at a vertex.\n",
    "\n",
    "    Parameters:\n",
    "    I_v (float): Intensity of the current vertex.\n",
    "    I_neighbors (list of float): Intensities of the neighboring vertices.\n",
    "    d_horizontal (float): Mean distance between the current vertex and its neighbors.\n",
    "\n",
    "    Returns:\n",
    "    float: Horizontal gradient.\n",
    "    \"\"\"\n",
    "    n = len(I_neighbors)\n",
    "    intensity_diff_sum = sum(abs(I_v - I_neighbor) for I_neighbor in I_neighbors)\n",
    "    return intensity_diff_sum / (n * d_horizontal)\n",
    "\n",
    "# Example usage:\n",
    "I_above = 0.8\n",
    "I_below = 0.6\n",
    "d_vertical = 1.0\n",
    "\n",
    "I_v = 0.75\n",
    "I_neighbors = [0.7, 0.8, 0.72, 0.77]\n",
    "d_horizontal = 0.5\n",
    "\n",
    "G_v = compute_vertical_gradient(I_above, I_below, d_vertical)\n",
    "G_h = compute_horizontal_gradient(I_v, I_neighbors, d_horizontal)\n",
    "\n",
    "print(f\"Vertical Gradient: {G_v}\")\n",
    "print(f\"Horizontal Gradient: {G_h}\")\n"
   ]
  },
  {
   "cell_type": "code",
   "execution_count": null,
   "id": "14f2b4db",
   "metadata": {},
   "outputs": [],
   "source": []
  }
 ],
 "metadata": {
  "kernelspec": {
   "display_name": "Python 3 (ipykernel)",
   "language": "python",
   "name": "python3"
  },
  "language_info": {
   "codemirror_mode": {
    "name": "ipython",
    "version": 3
   },
   "file_extension": ".py",
   "mimetype": "text/x-python",
   "name": "python",
   "nbconvert_exporter": "python",
   "pygments_lexer": "ipython3",
   "version": "3.9.13"
  }
 },
 "nbformat": 4,
 "nbformat_minor": 5
}
