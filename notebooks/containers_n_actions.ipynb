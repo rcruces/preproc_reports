{
 "cells": [
  {
   "cell_type": "markdown",
   "id": "c2014be5",
   "metadata": {},
   "source": [
    "<img src=\"https://www.docker.com/wp-content/uploads/2022/03/horizontal-logo-monochromatic-white.png\" width=\"400\" height=\"200\" align=\"left\"> "
   ]
  },
  {
   "cell_type": "markdown",
   "id": "02eecbd8",
   "metadata": {},
   "source": [
    "## Check images"
   ]
  },
  {
   "cell_type": "code",
   "execution_count": 5,
   "id": "7e1bc56a",
   "metadata": {},
   "outputs": [
    {
     "name": "stdout",
     "output_type": "stream",
     "text": [
      "REPOSITORY          TAG                   IMAGE ID       CREATED         SIZE\n",
      "micapipe            v0.1.5                88bc128c4d9e   2 days ago      36.7GB\n",
      "my_fastsurfer       cpu                   6167e77f6578   6 weeks ago     5.49GB\n",
      "deepmi/fastsurfer   surfonly-cpu-v2.0.0   a1373a0fbbe1   7 weeks ago     1.59GB\n",
      "deepmi/fastsurfer   cpu-v2.0.0            28f6bd92ba08   7 weeks ago     5.49GB\n",
      "micalab/micapipe    v0.1.4                1a581843a33a   3 months ago    36.7GB\n",
      "ubuntu              20.04                 680e5dfb52c7   4 months ago    72.8MB\n",
      "ubuntu              16.04                 b6f507652425   18 months ago   135MB\n",
      "ubuntu              latest                f643c72bc252   2 years ago     72.9MB\n",
      "ubuntu              bionic-20201119       2c047404e52d   2 years ago     63.3MB\n"
     ]
    }
   ],
   "source": [
    "%%bash\n",
    "docker images"
   ]
  },
  {
   "cell_type": "markdown",
   "id": "cca2f55e",
   "metadata": {},
   "source": [
    "## Remove images\n",
    "```bash\n",
    "docker rmi -f <docker-image>\n",
    "```\n",
    "\n",
    "## Get inside the container\n",
    "```bash\n",
    "docker run -it --entrypoint /bin/bash micapipe:v0.1.5\n",
    "```\n",
    "\n",
    "## Build container\n",
    "To keep all the functions executable you MUST be sure to change the permissions to others before building the container: `chmod aug+xX -R *`\n",
    "From the main repository where the `Dockerfile` is locate, particularry in the case of `micapipe`, I run, `-t` is for tag:\n",
    "```bash\n",
    "docker build . -t micapipe:v0.2.0_x\n",
    "```\n",
    "\n",
    "## Taggin the version via docker\n",
    "If the built was successful the next step is to tag the containe via docker:\n",
    "```bash\n",
    "docker tag micapipe:v0.2.0_x micalab/micapipe:v0.2.0\n",
    "```\n",
    "\n",
    "## Deploy container to `dockerhub`\n",
    "The final step is to release the new contianer to the docker hub, this step will require the user credentials e.g. `micalab`.\n",
    "```bash\n",
    "docker login --username micalab\n",
    "\n",
    "docker push micalab/micapipe:v0.2.0\n",
    "```\n",
    "\n",
    "## Build a Singularity from the local `docker`\n",
    "```bash\n",
    "singularity build micapipe_v0.2.0.sif docker-daemon://micapipe:v0.2.0_x\n",
    "```\n",
    "\n",
    "# Sigularity container <img src=\"https://sylabs.io/wp-content/uploads/2022/03/singularity-logo-round.svg\" width=\"100\" height=\"100\" align=\"left\">"
   ]
  },
  {
   "cell_type": "markdown",
   "id": "65d707c8",
   "metadata": {},
   "source": [
    "### Build `fastSurfer v2.0.4` singularity container \n",
    "\n",
    "1. Download the docker version\n",
    "\n",
    "```bash\n",
    "docker pull deepmi/fastsurfer:cpu-v2.0.4\n",
    "```\n",
    "\n",
    "2. Build the Singularity container\n",
    "\n",
    "```bash\n",
    "\n",
    "# set the singularity cache and tmp directories\n",
    "export SINGULARITY_CACHEDIR=/host/yeatman/local_raid/rcruces/data/images/cache_dir\n",
    "export SINGULARITY_TMPDIR=/host/yeatman/local_raid/rcruces/data/images/temp_dir\n",
    "\n",
    "# build the container from the docker image\n",
    "singularity build fastsurfer-cpu-v2.0.4.sif docker-daemon://deepmi/fastsurfer:cpu-v2.0.4\n",
    "```\n",
    "\n"
   ]
  },
  {
   "cell_type": "code",
   "execution_count": 10,
   "id": "c83def59",
   "metadata": {},
   "outputs": [],
   "source": [
    "%%bash\n"
   ]
  },
  {
   "cell_type": "markdown",
   "id": "fa030cf2",
   "metadata": {},
   "source": [
    "# Github actions \n",
    "## Create a container after each push on main (master)\n",
    "\n",
    "# CirlceCI Continuous integration workflow\n",
    "<img src=\"https://global-uploads.webflow.com/622659e406588ec12d1336d5/624789be8ca70284b471a6bd_circleci-ar21.png\" width=\"100\" height=\"100\" align=\"left\">"
   ]
  },
  {
   "cell_type": "code",
   "execution_count": null,
   "id": "9d49fb97",
   "metadata": {},
   "outputs": [],
   "source": []
  },
  {
   "cell_type": "markdown",
   "id": "7febb7b0",
   "metadata": {},
   "source": [
    "# docker `micapipe:v0.2.0_beta`\n",
    "### Code to run all modules for one subject with the container\n",
    "## MICs 3T\n",
    "```bash\n",
    "# ALL steps\n",
    "bids=/data/mica3/BIDS_CI/rawdata\n",
    "out=/data/mica3/BIDS_CI/dev_docker1\n",
    "fs_dir=/data_/mica3/BIDS_CI/license_fc.txt\n",
    "tmp=/tmp\n",
    "docker run -ti --rm --userns=host \\\n",
    "\t-v ${bids}:/bids \\\n",
    "    -v ${out}:/out \\\n",
    "    -v ${tmp}:/tmp \\\n",
    "    -v ${fs_dir}:/opt/licence.txt \\\n",
    "    micapipe:v0.2.0_beta \\\n",
    "    -bids /bids -out /out -fs_licence /opt/licence.txt -threads 15 \\\n",
    "    -sub HC010 -ses 01 -proc_structural -proc_surf -post_structural -atlas economo,aparc -proc_dwi -GD -proc_flair -proc_func -MPC -mpc_acq T1map -regSynth\n",
    "```\n",
    "\n",
    "```bash\n",
    "# NO running -proc_surf Run all with -surf_dir\n",
    "surf_dir=/data_/mica3/BIDS_CI/dev_mica/fastsurfer/sub-HC010_ses-01\n",
    "docker run -ti --rm --userns=host \\\n",
    "    -v ${bids}:/bids \\\n",
    "    -v ${out}:/out \\\n",
    "    -v ${tmp}:/tmp \\\n",
    "    -v ${surf_dir}:/surf_dir \\\n",
    "    -v ${fs_dir}:/opt/licence.txt \\\n",
    "    micapipe:v0.2.0_beta \\\n",
    "-bids /bids -out /out -fs_licence /opt/licence.txt -threads 15 -sub HC010 -ses 01 -proc_surf -surf_dir /surf_dir \\\n",
    "-post_structural -atlas economo,aparc -proc_dwi -GD -proc_flair -proc_func -MPC -mpc_acq T1map -regSynth\n",
    "\n",
    "```\n",
    "\n",
    "\n",
    "## PNI 7T"
   ]
  },
  {
   "cell_type": "markdown",
   "id": "9c17a6d8",
   "metadata": {},
   "source": [
    "# singularity `micapipe:v0.2.0_beta`\n",
    "### Code to run all modules for one subject with the container\n",
    "## MICs 3T\n",
    "```bash\n",
    "# Singularity container\n",
    "container=/host/yeatman/local_raid/rcruces/git_here/micapipe/micapipe_v0.2.0.sif\n",
    "singularity exec --nv ${container} -h\n",
    "singularity exec --nv \\\n",
    "    -B \"${bids}\":/bids \\\n",
    "    -B \"${out}\":/output \\\n",
    "    -B \"${tmp}\":/tmp \\\n",
    "    -B \"${fs_dir}\":/fs\n",
    "    \"${container}\" micapipe \\\n",
    "    -bids /bids -out /output -tmpDir /tmp \\\n",
    "    -fs_licence /fs/license.txt -threads 15 \\\n",
    "    -sub HC010 -ses 01 -proc_structural -proc_surf\n",
    "```"
   ]
  },
  {
   "cell_type": "markdown",
   "id": "cea7c785",
   "metadata": {},
   "source": [
    "# `dockerfile` for `freesurfer 7.4.0`\n",
    "```bash\n",
    "ENV FREESURFER_HOME=\"/opt/freesurfer-7.4.0\" \\\n",
    "    PATH=\"/opt/freesurfer-7.4.0/bin:$PATH\"\n",
    "RUN apt-get update -qq \\\n",
    "    && apt-get install -y -q --no-install-recommends \\\n",
    "           bc \\\n",
    "           libgomp1 \\\n",
    "           libxmu6 \\\n",
    "           libxt6 \\\n",
    "           perl \\\n",
    "           tcsh \\\n",
    "    && apt-get clean \\\n",
    "    && rm -rf /var/lib/apt/lists/* \\\n",
    "    && echo \"Downloading FreeSurfer ...\" \\\n",
    "    && mkdir -p /opt/freesurfer-7.4.0 \\\n",
    "    && curl -fsSL --retry 5 ftp://surfer.nmr.mgh.harvard.edu/pub/dist/freesurfer/7.4.0/freesurfer-linux-ubuntu18_amd64-7.4.0.tar.gz \\\n",
    "    | tar -xz -C /opt/freesurfer-7.4.0 --strip-components 1 \\\n",
    "         --exclude='freesurfer/average/mult-comp-cor' \\\n",
    "         --exclude='freesurfer/lib/cuda' \\\n",
    "         --exclude='freesurfer/lib/qt' \\\n",
    "         --exclude='freesurfer/subjects/V1_average' \\\n",
    "         --exclude='freesurfer/subjects/bert' \\\n",
    "         --exclude='freesurfer/subjects/cvs_avg35' \\\n",
    "         --exclude='freesurfer/subjects/cvs_avg35_inMNI152' \\\n",
    "         --exclude='freesurfer/subjects/fsaverage3' \\\n",
    "         --exclude='freesurfer/subjects/fsaverage4' \\\n",
    "         --exclude='freesurfer/subjects/fsaverage5' \\\n",
    "         --exclude='freesurfer/subjects/fsaverage6' \\\n",
    "         --exclude='freesurfer/subjects/fsaverage_sym' \\\n",
    "         --exclude='freesurfer/trctrain' \\\n",
    "    && sed -i '$isource \"/opt/freesurfer-7.4.0/SetUpFreeSurfer.sh\"' \"$ND_ENTRYPOINT\"\n",
    "```"
   ]
  },
  {
   "cell_type": "code",
   "execution_count": null,
   "id": "b77eed61",
   "metadata": {},
   "outputs": [],
   "source": []
  }
 ],
 "metadata": {
  "kernelspec": {
   "display_name": "Python 3 (ipykernel)",
   "language": "python",
   "name": "python3"
  },
  "language_info": {
   "codemirror_mode": {
    "name": "ipython",
    "version": 3
   },
   "file_extension": ".py",
   "mimetype": "text/x-python",
   "name": "python",
   "nbconvert_exporter": "python",
   "pygments_lexer": "ipython3",
   "version": "3.9.13"
  }
 },
 "nbformat": 4,
 "nbformat_minor": 5
}
