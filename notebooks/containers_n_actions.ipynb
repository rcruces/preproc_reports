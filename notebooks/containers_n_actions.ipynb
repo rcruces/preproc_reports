{
 "cells": [
  {
   "cell_type": "markdown",
   "id": "c2014be5",
   "metadata": {},
   "source": [
    "<img src=\"https://www.docker.com/wp-content/uploads/2022/03/horizontal-logo-monochromatic-white.png\" width=\"400\" height=\"200\" align=\"left\"> "
   ]
  },
  {
   "cell_type": "markdown",
   "id": "02eecbd8",
   "metadata": {},
   "source": [
    "## Check images"
   ]
  },
  {
   "cell_type": "code",
   "execution_count": 5,
   "id": "7e1bc56a",
   "metadata": {},
   "outputs": [
    {
     "name": "stdout",
     "output_type": "stream",
     "text": [
      "REPOSITORY          TAG                   IMAGE ID       CREATED         SIZE\n",
      "micapipe            v0.1.5                88bc128c4d9e   2 days ago      36.7GB\n",
      "my_fastsurfer       cpu                   6167e77f6578   6 weeks ago     5.49GB\n",
      "deepmi/fastsurfer   surfonly-cpu-v2.0.0   a1373a0fbbe1   7 weeks ago     1.59GB\n",
      "deepmi/fastsurfer   cpu-v2.0.0            28f6bd92ba08   7 weeks ago     5.49GB\n",
      "micalab/micapipe    v0.1.4                1a581843a33a   3 months ago    36.7GB\n",
      "ubuntu              20.04                 680e5dfb52c7   4 months ago    72.8MB\n",
      "ubuntu              16.04                 b6f507652425   18 months ago   135MB\n",
      "ubuntu              latest                f643c72bc252   2 years ago     72.9MB\n",
      "ubuntu              bionic-20201119       2c047404e52d   2 years ago     63.3MB\n"
     ]
    }
   ],
   "source": [
    "%%bash\n",
    "docker images"
   ]
  },
  {
   "cell_type": "markdown",
   "id": "cca2f55e",
   "metadata": {},
   "source": [
    "## Remove images\n",
    "```bash\n",
    "docker rmi -f <docker-image>\n",
    "```\n",
    "\n",
    "## Get inside the container\n",
    "```bash\n",
    "docker run -it --entrypoint /bin/bash micapipe:v0.1.5\n",
    "```\n",
    "\n",
    "## Build container\n",
    "From the main repository where the `Dockerfile` is locate, particularry in the case of `micapipe`, I run, `-t` is for tag:\n",
    "```bash\n",
    "docker build . -t micapipe:v0.1.5\n",
    "```\n",
    "\n",
    "## Taggin the version via docker\n",
    "If the built was successful the next step is to tag the containe via docker:\n",
    "```bash\n",
    "docker tag micapipe:v0.1.5 micalab/micapipe:v0.1.5\n",
    "```\n",
    "\n",
    "## Deploy container to `dockerhub`\n",
    "The final step is to release the new contianer to the docker hub, this step will require the user credentials e.g. `micalab`.\n",
    "```bash\n",
    "docker login --username micalab\n",
    "\n",
    "docker push micalab/micapipe:v0.1.5\n",
    "```\n",
    "\n",
    "# Sigularity container <img src=\"https://sylabs.io/wp-content/uploads/2022/03/singularity-logo-round.svg\" width=\"100\" height=\"100\" align=\"left\">"
   ]
  },
  {
   "cell_type": "markdown",
   "id": "65d707c8",
   "metadata": {},
   "source": [
    "### "
   ]
  },
  {
   "cell_type": "code",
   "execution_count": 10,
   "id": "c83def59",
   "metadata": {},
   "outputs": [],
   "source": []
  },
  {
   "cell_type": "markdown",
   "id": "fa030cf2",
   "metadata": {},
   "source": [
    "# Github actions \n",
    "## Create a container after each push on main (master)\n",
    "\n",
    "# CirlceCI Continuous integration workflow\n",
    "<img src=\"https://global-uploads.webflow.com/622659e406588ec12d1336d5/624789be8ca70284b471a6bd_circleci-ar21.png\" width=\"100\" height=\"100\" align=\"left\">"
   ]
  },
  {
   "cell_type": "code",
   "execution_count": null,
   "id": "9d49fb97",
   "metadata": {},
   "outputs": [],
   "source": []
  }
 ],
 "metadata": {
  "kernelspec": {
   "display_name": "Python 3 (ipykernel)",
   "language": "python",
   "name": "python3"
  },
  "language_info": {
   "codemirror_mode": {
    "name": "ipython",
    "version": 3
   },
   "file_extension": ".py",
   "mimetype": "text/x-python",
   "name": "python",
   "nbconvert_exporter": "python",
   "pygments_lexer": "ipython3",
   "version": "3.9.13"
  }
 },
 "nbformat": 4,
 "nbformat_minor": 5
}
