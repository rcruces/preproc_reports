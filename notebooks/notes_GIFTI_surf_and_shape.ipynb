{
 "cells": [
  {
   "cell_type": "markdown",
   "id": "e4d0ea1a",
   "metadata": {},
   "source": [
    "# GIFTI: surf and shape\n",
    "## Save a numpy.darray as shape.gii\n",
    "\n",
    "A `GiftiDataArray` with the actual array should be initialized then added to the data on a `GiftiImage` image object.\n",
    "\n",
    "Set all the metadata parameters correctly e.g. `datatype` and `intent`.\n",
    "\n",
    "Save it with `nibabel.save`\n",
    "\n",
    "##  Example for the conte69 mask_lh"
   ]
  },
  {
   "cell_type": "code",
   "execution_count": 2,
   "id": "8dd2102e",
   "metadata": {},
   "outputs": [
    {
     "ename": "NameError",
     "evalue": "name 'mask_lh' is not defined",
     "output_type": "error",
     "traceback": [
      "\u001b[0;31m---------------------------------------------------------------------------\u001b[0m",
      "\u001b[0;31mNameError\u001b[0m                                 Traceback (most recent call last)",
      "\u001b[0;32m/host/yeatman/local_raid/temporaryLocalProcessing/ipykernel_19337/4108173467.py\u001b[0m in \u001b[0;36m<module>\u001b[0;34m\u001b[0m\n\u001b[1;32m      2\u001b[0m \u001b[0;34m\u001b[0m\u001b[0m\n\u001b[1;32m      3\u001b[0m \u001b[0;31m# save fsLR-5k mask as func.gii\u001b[0m\u001b[0;34m\u001b[0m\u001b[0;34m\u001b[0m\u001b[0m\n\u001b[0;32m----> 4\u001b[0;31m \u001b[0mmask_lh\u001b[0m \u001b[0;34m=\u001b[0m \u001b[0mmask_lh\u001b[0m\u001b[0;34m.\u001b[0m\u001b[0mastype\u001b[0m\u001b[0;34m(\u001b[0m\u001b[0mint\u001b[0m\u001b[0;34m)\u001b[0m\u001b[0;34m\u001b[0m\u001b[0;34m\u001b[0m\u001b[0m\n\u001b[0m\u001b[1;32m      5\u001b[0m \u001b[0;34m\u001b[0m\u001b[0m\n\u001b[1;32m      6\u001b[0m \u001b[0;31m# intent is a code related to the data shape that we are encoding\u001b[0m\u001b[0;34m\u001b[0m\u001b[0;34m\u001b[0m\u001b[0m\n",
      "\u001b[0;31mNameError\u001b[0m: name 'mask_lh' is not defined"
     ]
    }
   ],
   "source": [
    "import nibabel as nb\n",
    "\n",
    "# save fsLR-5k mask as func.gii\n",
    "mask_lh = mask_lh.astype(int)\n",
    "\n",
    "# intent is a code related to the data shape that we are encoding\n",
    "# NIFTI_INTENT_SHAPE - 2005\n",
    "\n",
    "# This is my np.darray\n",
    "gifti_data = nb.gifti.GiftiDataArray(data=mask_lh, intent=2005, datatype=8)\n",
    "\n",
    "# this is the GiftiImage class\n",
    "gifti_img = nb.gifti.GiftiImage(meta=None, darrays=[gifti_data])\n",
    "\n",
    "# Save the new GIFTI file\n",
    "fileName='/data/mica1/01_programs/micapipe-v0.2.0/surfaces/fsLR-5k.L.mask.shape.gii'\n",
    "nb.save(img=gifti_img, filename=fileName)"
   ]
  },
  {
   "cell_type": "markdown",
   "id": "8910812f",
   "metadata": {},
   "source": [
    "## Test if they are the same"
   ]
  },
  {
   "cell_type": "code",
   "execution_count": 1,
   "id": "30248f14",
   "metadata": {},
   "outputs": [
    {
     "ename": "NameError",
     "evalue": "name 'nb' is not defined",
     "output_type": "error",
     "traceback": [
      "\u001b[0;31m---------------------------------------------------------------------------\u001b[0m",
      "\u001b[0;31mNameError\u001b[0m                                 Traceback (most recent call last)",
      "\u001b[0;32m/host/yeatman/local_raid/temporaryLocalProcessing/ipykernel_19337/301540856.py\u001b[0m in \u001b[0;36m<module>\u001b[0;34m\u001b[0m\n\u001b[1;32m      1\u001b[0m \u001b[0;31m# Load the shape.gii data\u001b[0m\u001b[0;34m\u001b[0m\u001b[0;34m\u001b[0m\u001b[0m\n\u001b[0;32m----> 2\u001b[0;31m \u001b[0mgii_lh\u001b[0m \u001b[0;34m=\u001b[0m \u001b[0mnb\u001b[0m\u001b[0;34m.\u001b[0m\u001b[0mload\u001b[0m\u001b[0;34m(\u001b[0m\u001b[0mfileName\u001b[0m\u001b[0;34m)\u001b[0m\u001b[0;34m.\u001b[0m\u001b[0mdarrays\u001b[0m\u001b[0;34m[\u001b[0m\u001b[0;36m0\u001b[0m\u001b[0;34m]\u001b[0m\u001b[0;34m.\u001b[0m\u001b[0mdata\u001b[0m\u001b[0;34m\u001b[0m\u001b[0;34m\u001b[0m\u001b[0m\n\u001b[0m\u001b[1;32m      3\u001b[0m \u001b[0;34m\u001b[0m\u001b[0m\n\u001b[1;32m      4\u001b[0m \u001b[0;31m# test if both arrays are the same\u001b[0m\u001b[0;34m\u001b[0m\u001b[0;34m\u001b[0m\u001b[0m\n\u001b[1;32m      5\u001b[0m \u001b[0mnp\u001b[0m\u001b[0;34m.\u001b[0m\u001b[0marray_equal\u001b[0m\u001b[0;34m(\u001b[0m\u001b[0mmask_lh\u001b[0m\u001b[0;34m,\u001b[0m \u001b[0mgii_lh\u001b[0m\u001b[0;34m)\u001b[0m\u001b[0;34m\u001b[0m\u001b[0;34m\u001b[0m\u001b[0m\n",
      "\u001b[0;31mNameError\u001b[0m: name 'nb' is not defined"
     ]
    }
   ],
   "source": [
    "# Load the shape.gii data\n",
    "gii_lh = nb.load(fileName).darrays[0].data\n",
    "\n",
    "# test if both arrays are the same\n",
    "np.array_equal(mask_lh, gii_lh)\n",
    "\n",
    "# if True we are good!!!"
   ]
  },
  {
   "cell_type": "markdown",
   "id": "a96bf950",
   "metadata": {},
   "source": [
    "## Function: `darray` to `shape.gii` (taken from `z-brains`)"
   ]
  },
  {
   "cell_type": "code",
   "execution_count": null,
   "id": "e34d6888",
   "metadata": {},
   "outputs": [],
   "source": [
    "def new_gifti_image(data, intent=0, datatype=16, metadata=None):\n",
    "  \"\"\"NiBabel wrapper to generate a gifti image with data array and metadata.\n",
    "  Parameters\n",
    "  ----------\n",
    "  data : ndarray\n",
    "    1-D ndarray containing one hemisphere surface data.\n",
    "  intent : int\n",
    "    Intent code for Gifti File. Defaults to 0 (Intent = NONE).\n",
    "    Available intent codes:\n",
    "      NIFTI_INTENT_NONE - 0\n",
    "      NIFTI_INTENT_CORREL - 2\n",
    "      NIFTI_INTENT_TTEST - 3\n",
    "      NIFTI_INTENT_ZSCORE - 5\n",
    "      NIFTI_INTENT_PVAL - 22\n",
    "      NIFTI_INTENT_LOGPVAL - 23\n",
    "      NIFTI_INTENT_LOG10PVAL - 24\n",
    "      NIFTI_INTENT_LABEL - 1002\n",
    "      NIFTI_INTENT_POINTSET - 1008\n",
    "      NIFTI_INTENT_TRIANGLE - 1009\n",
    "      NIFTI_INTENT_TIME_SERIES - 2001\n",
    "      NIFTI_INTENT_NODE_INDEX - 2002\n",
    "      NIFTI_INTENT_SHAPE - 2005\n",
    "    More intent codes can be found at: https://nifti.nimh.nih.gov/nifti-1/documentation/nifti1fields/nifti1fields_pages/group__NIFTI1__INTENT__CODES.html\n",
    "  datatype : int\n",
    "    Datatype for gifti image. Defaults to 16 (dtype = float32)\n",
    "    Available datatypes:\n",
    "      UINT8 - 2\n",
    "      INT32 - 8\n",
    "      FLOAT32 - 16\n",
    "  metadata : nibabel.gifti.gifti.GiftiMetaData\n",
    "    Metadata for gifti image.\n",
    "  Returns\n",
    "  -------\n",
    "  nibabel.gifti.gifti.GiftiImage\n",
    "    Gifti image with specified metadata and data array.\n",
    "  \"\"\"\n",
    "  dtypes = {2: np.uint8, 8: np.int32, 16: np.float32}\n",
    "  data = data.astype(dtypes[datatype])\n",
    "  if metadata:\n",
    "    metadata = nib.gifti.GiftiMetaData(metadata)\n",
    "  gifti_data = nib.gifti.GiftiDataArray(data=data, intent=intent, datatype=datatype)\n",
    "  gifti_img = nib.gifti.GiftiImage(meta=metadata, darrays=[gifti_data])\n",
    "  return gifti_img"
   ]
  },
  {
   "cell_type": "markdown",
   "id": "2e3c89a9",
   "metadata": {},
   "source": [
    "# Read gifti files with `R`"
   ]
  },
  {
   "cell_type": "code",
   "execution_count": null,
   "id": "476e82da",
   "metadata": {},
   "outputs": [],
   "source": [
    "%%R\n",
    "library(gifti)\n",
    "# Change working directory\n",
    "setwd(\"/data_/mica3/BIDS_MICs/derivatives/micapipe_v0.2.0/sub-HC062/ses-01/dist\")\n",
    "\n",
    "# Set path to files\n",
    "GD <- list.files(path='.', pattern=\"*atlas*\")\n",
    "\n",
    "for ( i in 1:length(GD)) {\n",
    "  gd_mtx <- as.matrix(readgii(GD[i])$data$shape)\n",
    "  image(gd_mtx)\n",
    "  print(paste0(\"dim=\",dim(gd_mtx)[1],\"x\",dim(gd_mtx)[2],\", file=\",GD[i]))\n",
    "}\n",
    "\n",
    "# Change working directory\n",
    "setwd(\"/data_/mica3/BIDS_MICs/derivatives/micapipe_v0.2.0/sub-PX071/ses-01/dwi/connectomes\")\n",
    "\n",
    "# Set path to files\n",
    "SC <- list.files(path='.', pattern=\"*full-connectome*\")\n",
    "\n",
    "for ( i in 1:length(SC)) {\n",
    "  sc_mtx <- as.matrix(read.table(SC[i], header = FALSE, sep = ' '))\n",
    "  image(log(sc_mtx))\n",
    "  print(paste0(\"dim=\",dim(sc_mtx)[1],\"x\",dim(sc_mtx)[2],\", file=\",SC[i]))\n",
    "}\n",
    "\n",
    "\n",
    "# Change working directory\n",
    "setwd(\"/data_/mica3/BIDS_MICs/derivatives/micapipe_v0.2.0/sub-HC062/ses-01/mpc/acq-T1map\")\n",
    "\n",
    "# Set path to files\n",
    "MPC <- list.files(path='.', pattern=\"*MPC.txt\")\n",
    "\n",
    "for ( i in 1:length(MPC)) {\n",
    "  mpc_mtx <- as.matrix(read.table(MPC[i], header = FALSE, sep = ' '))\n",
    "  image(mpc_mtx)\n",
    "  print(paste0(\"dim=\",dim(mpc_mtx)[1],\"x\",dim(mpc_mtx)[2],\", file=\",MPC[i]))\n",
    "}\n",
    "\n",
    "# Change working directory\n",
    "setwd(\"/data_/mica3/BIDS_MICs/derivatives/micapipe_v0.2.0/sub-HC062/ses-01/func/desc-se_task-rest_acq-AP_bold/surf\")\n",
    "\n",
    "# Set path to files\n",
    "FC <- list.files(path='.', pattern=\"*_surf-fsLR-32k_atlas-*\")\n",
    "\n",
    "\n",
    "for ( i in 1:length(FC)) {\n",
    "  fc_mtx <- as.matrix(read.table(FC[i], header = FALSE, sep = ' '))\n",
    "  image(fc_mtx)\n",
    "  print(paste0(\"dim=\",dim(fc_mtx)[1],\"x\",dim(fc_mtx)[2],\", file=\",FC[i]))\n",
    "}\n"
   ]
  }
 ],
 "metadata": {
  "kernelspec": {
   "display_name": "Python 3 (ipykernel)",
   "language": "python",
   "name": "python3"
  },
  "language_info": {
   "codemirror_mode": {
    "name": "ipython",
    "version": 3
   },
   "file_extension": ".py",
   "mimetype": "text/x-python",
   "name": "python",
   "nbconvert_exporter": "python",
   "pygments_lexer": "ipython3",
   "version": "3.9.13"
  }
 },
 "nbformat": 4,
 "nbformat_minor": 5
}
