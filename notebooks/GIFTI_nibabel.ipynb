{
 "cells": [
  {
   "cell_type": "markdown",
   "id": "0580b763",
   "metadata": {},
   "source": [
    "# GIFTI: surf and shape"
   ]
  },
  {
   "cell_type": "code",
   "execution_count": 2,
   "id": "9044e40d",
   "metadata": {},
   "outputs": [
    {
     "data": {
      "text/plain": [
       "'/host/yeatman/local_raid/rcruces/git_here/preproc_reports/notebooks'"
      ]
     },
     "execution_count": 2,
     "metadata": {},
     "output_type": "execute_result"
    }
   ],
   "source": [
    "import os\n",
    "import nibabel as nb\n",
    "os.getcwd()"
   ]
  },
  {
   "cell_type": "markdown",
   "id": "bf45fb14",
   "metadata": {},
   "source": [
    "# Save a `numpy.darray` as `shape.gii`\n",
    "A `GiftiDataArray` with the actual array should be initialized then \n",
    "add the data to a `GiftiImage` image object.\n",
    "\n",
    "Set all the metadata parameters correctly e.g. `datatype` and `intent`.\n",
    "\n",
    "Save it with `nibabel.save` "
   ]
  },
  {
   "cell_type": "code",
   "execution_count": null,
   "id": "c41402cc",
   "metadata": {},
   "outputs": [],
   "source": [
    "# save fsLR-5k mask as func.gii\n",
    "mask_lh = mask_lh.astype(int)\n",
    "# intent is a code related to the data\n",
    "# NIFTI_INTENT_SHAPE - 2005\n",
    "gifti_data = nb.gifti.GiftiDataArray(data=mask_lh, intent=2005, datatype=8)\n",
    "gifti_img = nb.gifti.GiftiImage(meta=None, darrays=[gifti_data])\n",
    "nb.save(img=gifti_img, filename='/data/mica1/01_programs/micapipe-v0.2.0/surfaces/fsLR-5k.L.mask.shape.gii')\n",
    "\n",
    "# right mask\n",
    "mask_rh = mask_lh.astype(int)\n",
    "# intent is a code related to the data\n",
    "# NIFTI_INTENT_SHAPE - 2005\n",
    "gifti_data = nb.gifti.GiftiDataArray(data=mask_rh, intent=2005, datatype=8)\n",
    "gifti_img = nb.gifti.GiftiImage(meta=None, darrays=[gifti_data])\n",
    "nb.save(img=gifti_img, filename='/data/mica1/01_programs/micapipe-v0.2.0/surfaces/fsLR-5k.R.mask.shape.gii')"
   ]
  },
  {
   "cell_type": "markdown",
   "id": "ad1697bf",
   "metadata": {},
   "source": [
    "# Load new shape.gii masks and test¶"
   ]
  },
  {
   "cell_type": "code",
   "execution_count": null,
   "id": "846d39db",
   "metadata": {},
   "outputs": [],
   "source": [
    "# Load the mask of the medial wall\n",
    "mask_lh = np.loadtxt('/data_/mica3/BIDS_MICs/fsLR_5k/surface/deformed_mask_5k_lh.txt',dtype=int)\n",
    "mask_rh = np.loadtxt('/data_/mica3/BIDS_MICs/fsLR_5k/surface/deformed_mask_5k_rh.txt',dtype=int)\n",
    "\n",
    "# Concatenate both masks left and right\n",
    "mask_fsRL10k = np.concatenate((mask_lh, mask_rh), axis=0)\n",
    "# map_to_labels will use a boolean array as input\n",
    "mask = mask_fsRL10k != 0\n",
    "\n",
    "# Labels and boolean mask\n",
    "labels_fsRL10k = np.array(range(mask_fsRL10k.shape[0]))"
   ]
  },
  {
   "cell_type": "markdown",
   "id": "f3cdfe82",
   "metadata": {},
   "source": [
    "# Create a fsLR-5k inflated surface"
   ]
  },
  {
   "cell_type": "code",
   "execution_count": null,
   "id": "f2362a38",
   "metadata": {},
   "outputs": [],
   "source": []
  }
 ],
 "metadata": {
  "kernelspec": {
   "display_name": "Python 3 (ipykernel)",
   "language": "python",
   "name": "python3"
  },
  "language_info": {
   "codemirror_mode": {
    "name": "ipython",
    "version": 3
   },
   "file_extension": ".py",
   "mimetype": "text/x-python",
   "name": "python",
   "nbconvert_exporter": "python",
   "pygments_lexer": "ipython3",
   "version": "3.9.13"
  }
 },
 "nbformat": 4,
 "nbformat_minor": 5
}
