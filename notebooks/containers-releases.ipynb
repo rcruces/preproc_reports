{
 "cells": [
  {
   "cell_type": "markdown",
   "id": "c2014be5",
   "metadata": {},
   "source": [
    "<img src=\"https://www.docker.com/wp-content/uploads/2022/03/horizontal-logo-monochromatic-white.png\" width=\"400\" height=\"200\" align=\"left\"> \n",
    "\n",
    "<img src=\"https://sylabs.io/wp-content/uploads/2022/03/singularity-logo-round.svg\" width=\"100\" height=\"100\" align=\"left\">"
   ]
  },
  {
   "cell_type": "markdown",
   "id": "02eecbd8",
   "metadata": {},
   "source": [
    "## New release\n",
    "\n",
    "```bash\n",
    "# From the development branch \n",
    "git checkout development\n",
    "\n",
    "# First merge the development branch into master\n",
    "git merge master\n",
    "\n",
    "# Resolve any merge conflicts if there are any\n",
    "git checkout master\n",
    "\n",
    "# there won't be any conflicts now\n",
    "git merge development\n",
    "\n",
    "# Push the changes and wait for codacy to check the code quality\n",
    "git push\n",
    "\n",
    "# Fix any code quality issues\n",
    "\n",
    "# Check the current tags\n",
    "git tag\n",
    "\n",
    "# Tag the new version\n",
    "git tag v0.2.3\n",
    "\n",
    "# Push the new tag\n",
    "git push origin --tags\n",
    "\n",
    "```\n",
    "\n",
    "## Check `docker ` images"
   ]
  },
  {
   "cell_type": "code",
   "execution_count": 2,
   "id": "7e1bc56a",
   "metadata": {},
   "outputs": [
    {
     "name": "stdout",
     "output_type": "stream",
     "text": [
      "REPOSITORY             TAG               IMAGE ID       CREATED         SIZE\n",
      "micalab/micapipe       v0.2.3            cc3e85c66b13   12 hours ago    50.7GB\n",
      "micapipe               v0.2.3            bc38e91ca45a   2 weeks ago     50.7GB\n",
      "micapipe               v0.2.2            11801730c360   5 months ago    49.4GB\n",
      "micalab/micapipe       v0.2.2            11801730c360   5 months ago    49.4GB\n",
      "micalab/micapipe       v0.2.1            451f238aba70   6 months ago    49.4GB\n",
      "micapipe               v0.2.0            289835e75e6d   6 months ago    49.4GB\n",
      "micalab/micapipe       v0.2.0            a2004313ed25   7 months ago    49.3GB\n",
      "nipreps/mriqc          23.1.0            160876df4636   7 months ago    14GB\n",
      "nipreps/mriqc          latest            160876df4636   7 months ago    14GB\n",
      "deepmi/fastsurfer      cpu-v2.1.1        c7c3bc2431fd   7 months ago    5.49GB\n",
      "repronim/neurodocker   0.9.5             1107707d9d51   8 months ago    79.7MB\n",
      "micalab/micapipe       v0.1.5            88bc128c4d9e   10 months ago   36.7GB\n",
      "deepmi/fastsurfer      cpu-v2.0.4        20292dd18519   10 months ago   5.49GB\n",
      "repronim/neurodocker   0.9.4             5e820e826386   12 months ago   76.9MB\n",
      "deepmi/fastsurfer      cpu-v2.0.0        28f6bd92ba08   12 months ago   5.49GB\n",
      "ubuntu                 20.04             680e5dfb52c7   14 months ago   72.8MB\n",
      "ubuntu                 16.04             b6f507652425   2 years ago     135MB\n",
      "ubuntu                 latest            f643c72bc252   3 years ago     72.9MB\n",
      "ubuntu                 bionic-20201119   2c047404e52d   3 years ago     63.3MB\n",
      "repronim/neurodocker   0.7.0             0b700323c695   3 years ago     81.5MB\n"
     ]
    }
   ],
   "source": [
    "%%bash\n",
    "docker images"
   ]
  },
  {
   "cell_type": "markdown",
   "id": "cca2f55e",
   "metadata": {},
   "source": [
    "## Remove images\n",
    "```bash\n",
    "docker rmi -f <docker-image>\n",
    "```\n",
    "\n",
    "## Get inside the container\n",
    "```bash\n",
    "docker run -it --entrypoint /bin/bash micapipe:v0.1.5\n",
    "```\n",
    "\n",
    "## Build container\n",
    "To keep all the functions executable you MUST be sure to change the permissions to others before building the container: \n",
    "\n",
    "```bash\n",
    "chmod aug+rxX -R *\n",
    "```\n",
    "\n",
    "From the main repository where the `Dockerfile` is locate, particularry in the case of `micapipe`, I run, `-t` is for tag:\n",
    "```bash\n",
    "docker build . -t micapipe:v0.2.x\n",
    "```\n",
    "\n",
    "## Taggin the version via docker\n",
    "If the built was successful the next step is to tag the containe via docker:\n",
    "```bash\n",
    "docker tag micapipe:v0.2.x micalab/micapipe:v0.2.x\n",
    "```\n",
    "\n",
    "## Build a Singularity from the local `docker`\n",
    "```bash\n",
    "singularity build micapipe_v0.2.x.sif docker-daemon://micapipe:v0.2.x\n",
    "\n",
    "mv -v micapipe_v0.2.x.sif /data/mica1/01_programs/micapipe-v0.2.0/\n",
    "```\n",
    "\n",
    "# Version tests\n",
    "```bash\n",
    "version=v0.2.3\n",
    "\n",
    "# Run docker tests\n",
    "img_docker=micalab/micapipe:\"${version}\"\n",
    "ci_workflow.sh \"${version}\" \"docker\" \"${img_docker}\"\n",
    "\n",
    "# Run singularity tests\n",
    "img_singularity=/data/mica1/01_programs/micapipe-v0.2.0/micapipe_\"${version}\".sif\n",
    "\n",
    "ci_workflow.sh \"${version}\" \"singularity\" \"${img_singularity}\"\n",
    "\n",
    "```\n",
    "\n",
    "# Release `github` version and deploy `docker`\n",
    "\n",
    "## Deploy container to `dockerhub`\n",
    "The final step is to release the new contianer to the docker hub, this step will require the user credentials e.g. `micalab`.\n",
    "```bash\n",
    "docker login --username micalab\n",
    "\n",
    "docker push micalab/micapipe:v0.2.x\n",
    "```\n",
    "\n",
    "# Create a new `development` branch\n",
    "🏁🔚"
   ]
  },
  {
   "cell_type": "code",
   "execution_count": null,
   "id": "a3a537a7",
   "metadata": {},
   "outputs": [],
   "source": []
  },
  {
   "cell_type": "markdown",
   "id": "65d707c8",
   "metadata": {},
   "source": [
    "# Build `fastSurfer v2.0.4` singularity container \n",
    "\n",
    "1. Download the docker version\n",
    "\n",
    "```bash\n",
    "docker pull deepmi/fastsurfer:cpu-v2.0.4\n",
    "```\n",
    "\n",
    "2. Build the Singularity container\n",
    "\n",
    "```bash\n",
    "\n",
    "# set the singularity cache and tmp directories\n",
    "export SINGULARITY_CACHEDIR=/host/yeatman/local_raid/rcruces/data/images/cache_dir\n",
    "export SINGULARITY_TMPDIR=/host/yeatman/local_raid/rcruces/data/images/temp_dir\n",
    "\n",
    "# build the container from the docker image\n",
    "singularity build fastsurfer-cpu-v2.0.4.sif docker-daemon://deepmi/fastsurfer:cpu-v2.0.4\n",
    "```\n",
    "\n"
   ]
  },
  {
   "cell_type": "code",
   "execution_count": 10,
   "id": "c83def59",
   "metadata": {},
   "outputs": [],
   "source": [
    "%%bash\n"
   ]
  },
  {
   "cell_type": "markdown",
   "id": "fa030cf2",
   "metadata": {},
   "source": [
    "# Github actions \n",
    "## Create a container after each push on main (master)\n",
    "\n",
    "## CirlceCI Continuous integration workflow\n",
    "<img src=\"https://global-uploads.webflow.com/622659e406588ec12d1336d5/624789be8ca70284b471a6bd_circleci-ar21.png\" width=\"100\" height=\"100\" align=\"left\">"
   ]
  },
  {
   "cell_type": "code",
   "execution_count": null,
   "id": "9d49fb97",
   "metadata": {},
   "outputs": [],
   "source": []
  }
 ],
 "metadata": {
  "kernelspec": {
   "display_name": "Python 3 (ipykernel)",
   "language": "python",
   "name": "python3"
  },
  "language_info": {
   "codemirror_mode": {
    "name": "ipython",
    "version": 3
   },
   "file_extension": ".py",
   "mimetype": "text/x-python",
   "name": "python",
   "nbconvert_exporter": "python",
   "pygments_lexer": "ipython3",
   "version": "3.9.13"
  }
 },
 "nbformat": 4,
 "nbformat_minor": 5
}
