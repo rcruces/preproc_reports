{
 "cells": [
  {
   "cell_type": "markdown",
   "id": "64524a67",
   "metadata": {},
   "source": [
    "# `FC.py` |  cofound regressions"
   ]
  },
  {
   "cell_type": "code",
   "execution_count": 22,
   "id": "14c62a5a",
   "metadata": {},
   "outputs": [],
   "source": [
    "# Load libraries\n",
    "import sys\n",
    "import os\n",
    "import glob\n",
    "import numpy as np\n",
    "import nibabel as nib\n",
    "from sklearn.linear_model import LinearRegression\n",
    "import warnings\n",
    "\n",
    "# Load data from single subject\n",
    "funcDir='/data_/mica3/BIDS_MICs/derivatives/micapipe/sub-PX062/ses-01/func/desc-se_task-rest_acq-AP_bold'\n",
    "func_lab='_space-func_desc-se'\n",
    "# Load confound files\n",
    "os.chdir(funcDir+'/volumetric/')\n",
    "x_spike = \" \".join(glob.glob(funcDir+'/volumetric/'+'*spikeRegressors_FD.1D'))\n",
    "x_dof = \" \".join(glob.glob(funcDir+'/volumetric/*'+func_lab+'.1D'))\n",
    "# x_refmse = \" \".join(glob.glob(funcDir+'/volumetric/'+'*metric_REFMSE.1D'))\n",
    "x_fd = \" \".join(glob.glob(funcDir+'/volumetric/'+'*metric_FD*'))\n",
    "x_csf = \" \".join(glob.glob(funcDir+'/volumetric/'+'*CSF*'))\n",
    "x_wm = \" \".join(glob.glob(funcDir+'/volumetric/'+'*WM*'))\n",
    "x_gs = \" \".join(glob.glob(funcDir+'/volumetric/'+'*global*'))\n",
    "\n",
    "# define functions\n",
    "def expand_dim(Data):\n",
    "    if Data.ndim == 1:\n",
    "        Data = np.expand_dims(Data, axis=1)\n",
    "    return Data\n",
    "\n",
    "# Set paths to files\n",
    "dof = np.loadtxt(x_dof)\n",
    "csf = expand_dim(np.loadtxt(x_csf))\n",
    "wm = expand_dim(np.loadtxt(x_wm))\n",
    "gs = expand_dim(np.loadtxt(x_gs))\n",
    "spike = expand_dim(np.loadtxt(x_spike))\n",
    "\n",
    "ones = np.ones((wm.shape[0], 1))\n",
    "mdl = np.append(np.append(np.append(np.append(ones, dof, axis=1), wm, axis=1), csf, axis=1), gs, axis = 1)\n",
    "\n",
    "# load cortica data\n",
    "os.chdir(funcDir+'/surfaces/')\n",
    "x_lh = \" \".join(glob.glob(funcDir+'/surfaces/'+'*space-conte69-32k_lh_10mm*'))\n",
    "x_rh = \" \".join(glob.glob(funcDir+'/surfaces/'+'*space-conte69-32k_rh_10mm*'))\n",
    "lh_data = nib.load(x_lh)\n",
    "lh_data = np.squeeze(lh_data.get_fdata())\n",
    "rh_data = nib.load(x_rh)\n",
    "rh_data = np.squeeze(rh_data.get_fdata())\n",
    "\n",
    "# Reformat data\n",
    "data = []\n",
    "data = np.transpose(np.append(lh_data, rh_data, axis=0))\n",
    "n_vertex_ctx_c69 = data.shape[1]\n",
    "del lh_data\n",
    "del rh_data"
   ]
  },
  {
   "cell_type": "markdown",
   "id": "6d17de41",
   "metadata": {},
   "source": [
    "## Previous implementation: OLS GLM\n",
    "## $$ X_{regresors\\{696,10\\}} \\sim Y_{timeSeries\\{695,64k\\}} \\cdot \\beta_{coef\\{10,64k\\}} + I_{\\{10\\}}$$"
   ]
  },
  {
   "cell_type": "code",
   "execution_count": 23,
   "id": "fbd49aab",
   "metadata": {},
   "outputs": [],
   "source": [
    "# X ~ Y \n",
    "slmXY = LinearRegression().fit(data, mdl)"
   ]
  },
  {
   "cell_type": "markdown",
   "id": "bc5bb3b8",
   "metadata": {},
   "source": [
    "## Residuals NO intercept\n",
    "## $$ Residuals = Y_{timeSeries\\{695,64k\\}} - ( X_{regresors\\{696,10\\}} \\cdot \\beta_{coef\\{10,64k\\}}  ) $$"
   ]
  },
  {
   "cell_type": "code",
   "execution_count": 24,
   "id": "b74e44dc",
   "metadata": {},
   "outputs": [],
   "source": [
    "# residuals NO intercep\n",
    "res_XY = data - np.dot(mdl, slmXY.coef_)"
   ]
  },
  {
   "cell_type": "markdown",
   "id": "cff91acb",
   "metadata": {},
   "source": [
    "## Residuals with intercept\n",
    "## $$Residuals = Y_{timeSeries\\{695,64k\\}} - ( X_{regresors\\{696,10\\}} \\cdot \\beta_{coef\\{10,64k\\}} + I_{\\{10\\}} ) $$\n",
    "is not possible bc the intercep is 10."
   ]
  },
  {
   "cell_type": "code",
   "execution_count": 25,
   "id": "1ed82f62",
   "metadata": {},
   "outputs": [
    {
     "ename": "ValueError",
     "evalue": "operands could not be broadcast together with shapes (695,64984) (10,) ",
     "output_type": "error",
     "traceback": [
      "\u001b[0;31m---------------------------------------------------------------------------\u001b[0m",
      "\u001b[0;31mValueError\u001b[0m                                Traceback (most recent call last)",
      "\u001b[0;32m/host/yeatman/local_raid/temporaryLocalProcessing/ipykernel_18535/3003367404.py\u001b[0m in \u001b[0;36m<module>\u001b[0;34m\u001b[0m\n\u001b[1;32m      1\u001b[0m \u001b[0;31m# Residuals with intercept\u001b[0m\u001b[0;34m\u001b[0m\u001b[0;34m\u001b[0m\u001b[0m\n\u001b[0;32m----> 2\u001b[0;31m \u001b[0mresidual_XY\u001b[0m \u001b[0;34m=\u001b[0m \u001b[0mdata\u001b[0m \u001b[0;34m-\u001b[0m \u001b[0;34m(\u001b[0m\u001b[0mnp\u001b[0m\u001b[0;34m.\u001b[0m\u001b[0mdot\u001b[0m\u001b[0;34m(\u001b[0m\u001b[0mmdl\u001b[0m\u001b[0;34m,\u001b[0m \u001b[0mslmXY\u001b[0m\u001b[0;34m.\u001b[0m\u001b[0mcoef_\u001b[0m\u001b[0;34m)\u001b[0m \u001b[0;34m+\u001b[0m \u001b[0mslmXY\u001b[0m\u001b[0;34m.\u001b[0m\u001b[0mintercept_\u001b[0m\u001b[0;34m)\u001b[0m\u001b[0;34m\u001b[0m\u001b[0;34m\u001b[0m\u001b[0m\n\u001b[0m",
      "\u001b[0;31mValueError\u001b[0m: operands could not be broadcast together with shapes (695,64984) (10,) "
     ]
    }
   ],
   "source": [
    "# Residuals with intercept\n",
    "residual_XY = data - (np.dot(mdl, slmXY.coef_) + slmXY.intercept_)"
   ]
  },
  {
   "cell_type": "markdown",
   "id": "22d4125c",
   "metadata": {},
   "source": [
    "## Full updated model  \n",
    "## $$ Y_{timeSeries\\{695,64k\\}} \\sim X_{regresors\\{696,10\\}} \\cdot \\beta_{coef\\{10,64k\\}}^T + I_{64k}$$"
   ]
  },
  {
   "cell_type": "code",
   "execution_count": 26,
   "id": "1dff399c",
   "metadata": {},
   "outputs": [],
   "source": [
    "# Y ~ X (new stuff)\n",
    "slmYX = LinearRegression().fit(mdl, data)"
   ]
  },
  {
   "cell_type": "markdown",
   "id": "9ea5832e",
   "metadata": {},
   "source": [
    "## Residuals NO intercept\n",
    "## $$ Residuals = Y_{timeSeries\\{695,64k\\}} - (X_{regresors\\{696,10\\}} \\cdot \\beta_{coef\\{10,64k\\}}^T)$$"
   ]
  },
  {
   "cell_type": "code",
   "execution_count": 27,
   "id": "288e81d3",
   "metadata": {},
   "outputs": [],
   "source": [
    "# residuals NO intercept\n",
    "res_YX = data - np.dot(mdl, slmYX.coef_.T)"
   ]
  },
  {
   "cell_type": "markdown",
   "id": "48e978f5",
   "metadata": {},
   "source": [
    "## Residuals with intercept\n",
    "## $$ Residuals = Y_{timeSeries\\{695,64k\\}} - (X_{regresors\\{696,10\\}} \\cdot \\beta_{coef\\{10,64k\\}}^T + I_{1,64k}^T)$$"
   ]
  },
  {
   "cell_type": "code",
   "execution_count": 28,
   "id": "854f5a42",
   "metadata": {},
   "outputs": [],
   "source": [
    "# residuals with intercept\n",
    "res_YXI =  data - (np.dot(mdl, slmYX.coef_.T) + slmYX.intercept_.T)"
   ]
  },
  {
   "cell_type": "markdown",
   "id": "6a3c7bc2",
   "metadata": {},
   "source": [
    "## Residuals with function `predict`"
   ]
  },
  {
   "cell_type": "code",
   "execution_count": 29,
   "id": "483a59f5",
   "metadata": {},
   "outputs": [],
   "source": [
    "# residuals with function predict(X)\n",
    "residual = (data - slmYX.predict(mdl))"
   ]
  },
  {
   "cell_type": "markdown",
   "id": "3aa867f1",
   "metadata": {},
   "source": [
    "## Residuals function is EQUAL to residuals with intercept\n",
    "## AND same results as using `R`: `residuals(lm(y~x))`"
   ]
  },
  {
   "cell_type": "code",
   "execution_count": 30,
   "id": "2b6f01b7",
   "metadata": {},
   "outputs": [
    {
     "data": {
      "text/plain": [
       "True"
      ]
     },
     "execution_count": 30,
     "metadata": {},
     "output_type": "execute_result"
    }
   ],
   "source": [
    "# residuals function is EQUAL to residuals with intercept\n",
    "np.array_equal(res_YXI, residual)"
   ]
  },
  {
   "cell_type": "markdown",
   "id": "7317e41b",
   "metadata": {},
   "source": [
    "# Similarity with and without intercept "
   ]
  },
  {
   "cell_type": "code",
   "execution_count": 31,
   "id": "aba9c8cf",
   "metadata": {},
   "outputs": [
    {
     "data": {
      "text/plain": [
       "0.9999999349304176"
      ]
     },
     "execution_count": 31,
     "metadata": {},
     "output_type": "execute_result"
    }
   ],
   "source": [
    "# residuals function is NOT equal to dot product of coefficients*X\n",
    "np.array_equal(res_YX, residual)\n",
    "\n",
    "# Are the methods the same?? almost\n",
    "res_corr = np.zeros(695)\n",
    "for i in range(0,695):\n",
    "    res_corr[i] = np.corrcoef(res_YX[i,:], residual[i,:])[0,1]\n",
    "np.mean(res_corr)"
   ]
  },
  {
   "cell_type": "markdown",
   "id": "9d369bb5",
   "metadata": {},
   "source": [
    "# Similarity between `X~Y` and `Y~X` residuals"
   ]
  },
  {
   "cell_type": "code",
   "execution_count": 32,
   "id": "41f1b9f6",
   "metadata": {},
   "outputs": [
    {
     "data": {
      "text/plain": [
       "0.9493226510068407"
      ]
     },
     "execution_count": 32,
     "metadata": {},
     "output_type": "execute_result"
    }
   ],
   "source": [
    "# Are the methods the same?? almost\n",
    "res_diff = np.zeros(695)\n",
    "for i in range(0,695):\n",
    "    res_diff[i] = np.corrcoef(residual[i,:], res_XY[i,:])[0,1]\n",
    "np.mean(res_diff)"
   ]
  },
  {
   "cell_type": "code",
   "execution_count": null,
   "id": "afbdcda5",
   "metadata": {},
   "outputs": [],
   "source": []
  }
 ],
 "metadata": {
  "kernelspec": {
   "display_name": "Python 3 (ipykernel)",
   "language": "python",
   "name": "python3"
  },
  "language_info": {
   "codemirror_mode": {
    "name": "ipython",
    "version": 3
   },
   "file_extension": ".py",
   "mimetype": "text/x-python",
   "name": "python",
   "nbconvert_exporter": "python",
   "pygments_lexer": "ipython3",
   "version": "3.9.13"
  }
 },
 "nbformat": 4,
 "nbformat_minor": 5
}
