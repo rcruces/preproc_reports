{
 "cells": [
  {
   "cell_type": "markdown",
   "id": "64524a67",
   "metadata": {},
   "source": [
    "# `FC.py` |  cofound regressions"
   ]
  },
  {
   "cell_type": "code",
   "execution_count": 1,
   "id": "14c62a5a",
   "metadata": {},
   "outputs": [
    {
     "ename": "OSError",
     "evalue": " not found.",
     "output_type": "error",
     "traceback": [
      "\u001b[0;31m---------------------------------------------------------------------------\u001b[0m",
      "\u001b[0;31mOSError\u001b[0m                                   Traceback (most recent call last)",
      "\u001b[0;32m/host/yeatman/local_raid/temporaryLocalProcessing/ipykernel_31009/842340641.py\u001b[0m in \u001b[0;36m<module>\u001b[0;34m\u001b[0m\n\u001b[1;32m     32\u001b[0m \u001b[0mwm\u001b[0m \u001b[0;34m=\u001b[0m \u001b[0mexpand_dim\u001b[0m\u001b[0;34m(\u001b[0m\u001b[0mnp\u001b[0m\u001b[0;34m.\u001b[0m\u001b[0mloadtxt\u001b[0m\u001b[0;34m(\u001b[0m\u001b[0mx_wm\u001b[0m\u001b[0;34m)\u001b[0m\u001b[0;34m)\u001b[0m\u001b[0;34m\u001b[0m\u001b[0;34m\u001b[0m\u001b[0m\n\u001b[1;32m     33\u001b[0m \u001b[0mgs\u001b[0m \u001b[0;34m=\u001b[0m \u001b[0mexpand_dim\u001b[0m\u001b[0;34m(\u001b[0m\u001b[0mnp\u001b[0m\u001b[0;34m.\u001b[0m\u001b[0mloadtxt\u001b[0m\u001b[0;34m(\u001b[0m\u001b[0mx_gs\u001b[0m\u001b[0;34m)\u001b[0m\u001b[0;34m)\u001b[0m\u001b[0;34m\u001b[0m\u001b[0;34m\u001b[0m\u001b[0m\n\u001b[0;32m---> 34\u001b[0;31m \u001b[0mspike\u001b[0m \u001b[0;34m=\u001b[0m \u001b[0mexpand_dim\u001b[0m\u001b[0;34m(\u001b[0m\u001b[0mnp\u001b[0m\u001b[0;34m.\u001b[0m\u001b[0mloadtxt\u001b[0m\u001b[0;34m(\u001b[0m\u001b[0mx_spike\u001b[0m\u001b[0;34m)\u001b[0m\u001b[0;34m)\u001b[0m\u001b[0;34m\u001b[0m\u001b[0;34m\u001b[0m\u001b[0m\n\u001b[0m\u001b[1;32m     35\u001b[0m \u001b[0;34m\u001b[0m\u001b[0m\n\u001b[1;32m     36\u001b[0m \u001b[0mones\u001b[0m \u001b[0;34m=\u001b[0m \u001b[0mnp\u001b[0m\u001b[0;34m.\u001b[0m\u001b[0mones\u001b[0m\u001b[0;34m(\u001b[0m\u001b[0;34m(\u001b[0m\u001b[0mwm\u001b[0m\u001b[0;34m.\u001b[0m\u001b[0mshape\u001b[0m\u001b[0;34m[\u001b[0m\u001b[0;36m0\u001b[0m\u001b[0;34m]\u001b[0m\u001b[0;34m,\u001b[0m \u001b[0;36m1\u001b[0m\u001b[0;34m)\u001b[0m\u001b[0;34m)\u001b[0m\u001b[0;34m\u001b[0m\u001b[0;34m\u001b[0m\u001b[0m\n",
      "\u001b[0;32m/host/yeatman/local_raid/rcruces/anaconda3/lib/python3.9/site-packages/numpy/lib/npyio.py\u001b[0m in \u001b[0;36mloadtxt\u001b[0;34m(fname, dtype, comments, delimiter, converters, skiprows, usecols, unpack, ndmin, encoding, max_rows, like)\u001b[0m\n\u001b[1;32m   1065\u001b[0m             \u001b[0mfname\u001b[0m \u001b[0;34m=\u001b[0m \u001b[0mos_fspath\u001b[0m\u001b[0;34m(\u001b[0m\u001b[0mfname\u001b[0m\u001b[0;34m)\u001b[0m\u001b[0;34m\u001b[0m\u001b[0;34m\u001b[0m\u001b[0m\n\u001b[1;32m   1066\u001b[0m         \u001b[0;32mif\u001b[0m \u001b[0m_is_string_like\u001b[0m\u001b[0;34m(\u001b[0m\u001b[0mfname\u001b[0m\u001b[0;34m)\u001b[0m\u001b[0;34m:\u001b[0m\u001b[0;34m\u001b[0m\u001b[0;34m\u001b[0m\u001b[0m\n\u001b[0;32m-> 1067\u001b[0;31m             \u001b[0mfh\u001b[0m \u001b[0;34m=\u001b[0m \u001b[0mnp\u001b[0m\u001b[0;34m.\u001b[0m\u001b[0mlib\u001b[0m\u001b[0;34m.\u001b[0m\u001b[0m_datasource\u001b[0m\u001b[0;34m.\u001b[0m\u001b[0mopen\u001b[0m\u001b[0;34m(\u001b[0m\u001b[0mfname\u001b[0m\u001b[0;34m,\u001b[0m \u001b[0;34m'rt'\u001b[0m\u001b[0;34m,\u001b[0m \u001b[0mencoding\u001b[0m\u001b[0;34m=\u001b[0m\u001b[0mencoding\u001b[0m\u001b[0;34m)\u001b[0m\u001b[0;34m\u001b[0m\u001b[0;34m\u001b[0m\u001b[0m\n\u001b[0m\u001b[1;32m   1068\u001b[0m             \u001b[0mfencoding\u001b[0m \u001b[0;34m=\u001b[0m \u001b[0mgetattr\u001b[0m\u001b[0;34m(\u001b[0m\u001b[0mfh\u001b[0m\u001b[0;34m,\u001b[0m \u001b[0;34m'encoding'\u001b[0m\u001b[0;34m,\u001b[0m \u001b[0;34m'latin1'\u001b[0m\u001b[0;34m)\u001b[0m\u001b[0;34m\u001b[0m\u001b[0;34m\u001b[0m\u001b[0m\n\u001b[1;32m   1069\u001b[0m             \u001b[0mfh\u001b[0m \u001b[0;34m=\u001b[0m \u001b[0miter\u001b[0m\u001b[0;34m(\u001b[0m\u001b[0mfh\u001b[0m\u001b[0;34m)\u001b[0m\u001b[0;34m\u001b[0m\u001b[0;34m\u001b[0m\u001b[0m\n",
      "\u001b[0;32m/host/yeatman/local_raid/rcruces/anaconda3/lib/python3.9/site-packages/numpy/lib/_datasource.py\u001b[0m in \u001b[0;36mopen\u001b[0;34m(path, mode, destpath, encoding, newline)\u001b[0m\n\u001b[1;32m    191\u001b[0m \u001b[0;34m\u001b[0m\u001b[0m\n\u001b[1;32m    192\u001b[0m     \u001b[0mds\u001b[0m \u001b[0;34m=\u001b[0m \u001b[0mDataSource\u001b[0m\u001b[0;34m(\u001b[0m\u001b[0mdestpath\u001b[0m\u001b[0;34m)\u001b[0m\u001b[0;34m\u001b[0m\u001b[0;34m\u001b[0m\u001b[0m\n\u001b[0;32m--> 193\u001b[0;31m     \u001b[0;32mreturn\u001b[0m \u001b[0mds\u001b[0m\u001b[0;34m.\u001b[0m\u001b[0mopen\u001b[0m\u001b[0;34m(\u001b[0m\u001b[0mpath\u001b[0m\u001b[0;34m,\u001b[0m \u001b[0mmode\u001b[0m\u001b[0;34m,\u001b[0m \u001b[0mencoding\u001b[0m\u001b[0;34m=\u001b[0m\u001b[0mencoding\u001b[0m\u001b[0;34m,\u001b[0m \u001b[0mnewline\u001b[0m\u001b[0;34m=\u001b[0m\u001b[0mnewline\u001b[0m\u001b[0;34m)\u001b[0m\u001b[0;34m\u001b[0m\u001b[0;34m\u001b[0m\u001b[0m\n\u001b[0m\u001b[1;32m    194\u001b[0m \u001b[0;34m\u001b[0m\u001b[0m\n\u001b[1;32m    195\u001b[0m \u001b[0;34m\u001b[0m\u001b[0m\n",
      "\u001b[0;32m/host/yeatman/local_raid/rcruces/anaconda3/lib/python3.9/site-packages/numpy/lib/_datasource.py\u001b[0m in \u001b[0;36mopen\u001b[0;34m(self, path, mode, encoding, newline)\u001b[0m\n\u001b[1;32m    531\u001b[0m                                       encoding=encoding, newline=newline)\n\u001b[1;32m    532\u001b[0m         \u001b[0;32melse\u001b[0m\u001b[0;34m:\u001b[0m\u001b[0;34m\u001b[0m\u001b[0;34m\u001b[0m\u001b[0m\n\u001b[0;32m--> 533\u001b[0;31m             \u001b[0;32mraise\u001b[0m \u001b[0mIOError\u001b[0m\u001b[0;34m(\u001b[0m\u001b[0;34m\"%s not found.\"\u001b[0m \u001b[0;34m%\u001b[0m \u001b[0mpath\u001b[0m\u001b[0;34m)\u001b[0m\u001b[0;34m\u001b[0m\u001b[0;34m\u001b[0m\u001b[0m\n\u001b[0m\u001b[1;32m    534\u001b[0m \u001b[0;34m\u001b[0m\u001b[0m\n\u001b[1;32m    535\u001b[0m \u001b[0;34m\u001b[0m\u001b[0m\n",
      "\u001b[0;31mOSError\u001b[0m:  not found."
     ]
    }
   ],
   "source": [
    "# Load libraries\n",
    "import sys\n",
    "import os\n",
    "import glob\n",
    "import numpy as np\n",
    "import nibabel as nib\n",
    "from sklearn.linear_model import LinearRegression\n",
    "import warnings\n",
    "\n",
    "# Load data from single subject\n",
    "funcDir='/data_/mica3/BIDS_MICs/derivatives/micapipe/sub-PX079/ses-01/func/desc-se_task-rest_acq-AP_bold'\n",
    "func_lab='_space-func_desc-se'\n",
    "# Load confound files\n",
    "os.chdir(funcDir+'/volumetric/')\n",
    "x_spike = \" \".join(glob.glob(funcDir+'/volumetric/'+'*spikeRegressors_FD.1D'))\n",
    "x_dof = \" \".join(glob.glob(funcDir+'/volumetric/*'+func_lab+'.1D'))\n",
    "# x_refmse = \" \".join(glob.glob(funcDir+'/volumetric/'+'*metric_REFMSE.1D'))\n",
    "x_fd = \" \".join(glob.glob(funcDir+'/volumetric/'+'*metric_FD*'))\n",
    "x_csf = \" \".join(glob.glob(funcDir+'/volumetric/'+'*CSF*'))\n",
    "x_wm = \" \".join(glob.glob(funcDir+'/volumetric/'+'*WM*'))\n",
    "x_gs = \" \".join(glob.glob(funcDir+'/volumetric/'+'*global*'))\n",
    "\n",
    "# define functions\n",
    "def expand_dim(Data):\n",
    "    if Data.ndim == 1:\n",
    "        Data = np.expand_dims(Data, axis=1)\n",
    "    return Data\n",
    "\n",
    "# Set paths to files\n",
    "dof = np.loadtxt(x_dof)\n",
    "csf = expand_dim(np.loadtxt(x_csf))\n",
    "wm = expand_dim(np.loadtxt(x_wm))\n",
    "gs = expand_dim(np.loadtxt(x_gs))\n",
    "spike = expand_dim(np.loadtxt(x_spike))\n",
    "\n",
    "ones = np.ones((wm.shape[0], 1))\n",
    "mdl = np.append(np.append(np.append(np.append(ones, dof, axis=1), wm, axis=1), csf, axis=1), gs, axis = 1)\n",
    "\n",
    "# load cortica data\n",
    "os.chdir(funcDir+'/surf/')\n",
    "x_lh = \" \".join(glob.glob(funcDir+'/surfaces/'+'*space-conte69-32k_lh_10mm*'))\n",
    "x_rh = \" \".join(glob.glob(funcDir+'/surfaces/'+'*space-conte69-32k_rh_10mm*'))\n",
    "lh_data = nib.load(x_lh)\n",
    "lh_data = np.squeeze(lh_data.get_fdata())\n",
    "rh_data = nib.load(x_rh)\n",
    "rh_data = np.squeeze(rh_data.get_fdata())\n",
    "\n",
    "# Reformat data\n",
    "data = []\n",
    "data = np.transpose(np.append(lh_data, rh_data, axis=0))\n",
    "n_vertex_ctx_c69 = data.shape[1]\n",
    "del lh_data\n",
    "del rh_data"
   ]
  },
  {
   "cell_type": "code",
   "execution_count": null,
   "id": "41f1b9f6",
   "metadata": {},
   "outputs": [],
   "source": [
    "# mod.fit(x, y), where y=[time series: time,vertex] and x=[regressor matrix: time, regresor] \n",
    "# Y ~ X (new stuff)\n",
    "slmYX = LinearRegression().fit(mdl, data)\n",
    "# residuals NO intercept\n",
    "res_YX = data - np.dot(mdl, slmYX.coef_.T) # <<<<----------- Here\n",
    "# residuals with intercept\n",
    "res_YXI =  data - (np.dot(mdl, slmYX.coef_.T) + slmYX.intercept_.T)\n",
    "# residuals with function predict(X)\n",
    "residual = (data - slmYX.predict(mdl))\n",
    "\n",
    "# residuals function is EQUAL to residuals with intercept\n",
    "np.array_equal(res_YXI, residual)\n",
    "# AND same results as using R function: residuals(lm(y~x))\n",
    "\n",
    "# residuals functio is NOT equal to dot product of coefficients*X\n",
    "np.array_equal(res_YX, residual)\n",
    "\n",
    "# Are the methods the same?? almost\n",
    "res_corr = np.zeros(695)\n",
    "for i in range(0,695):\n",
    "    res_corr[i] = np.corrcoef(res_YX[i,:], residual[i,:])[0,1]\n",
    "np.mean(res_corr)\n",
    "\n",
    "# --------------------------------------------------------------------\n",
    "# X ~ Y \n",
    "slmXY = LinearRegression().fit(data, mdl)\n",
    "# residuals NO intercep\n",
    "res_XY = data - np.dot(mdl, slmXY.coef_)\n",
    "\n",
    "# residuals with function predict(X) is not possible bc\n",
    "# the intercep is 10.\n",
    "# residual_XY = data - (np.dot(mdl, slmXY.coef_) + slmXY.intercept_)\n",
    "\n",
    "\n",
    "# Are the methods the same?? almost\n",
    "res_diff = np.zeros(695)\n",
    "for i in range(0,695):\n",
    "    res_diff[i] = np.corrcoef(residual[i,:], res_XY[i,:])[0,1]\n",
    "np.mean(res_diff)"
   ]
  }
 ],
 "metadata": {
  "kernelspec": {
   "display_name": "Python 3 (ipykernel)",
   "language": "python",
   "name": "python3"
  },
  "language_info": {
   "codemirror_mode": {
    "name": "ipython",
    "version": 3
   },
   "file_extension": ".py",
   "mimetype": "text/x-python",
   "name": "python",
   "nbconvert_exporter": "python",
   "pygments_lexer": "ipython3",
   "version": "3.9.13"
  }
 },
 "nbformat": 4,
 "nbformat_minor": 5
}
